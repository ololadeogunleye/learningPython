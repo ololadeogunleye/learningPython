{
  "cells": [
    {
      "cell_type": "markdown",
      "metadata": {
        "id": "view-in-github",
        "colab_type": "text"
      },
      "source": [
        "<a href=\"https://colab.research.google.com/github/ololadeogunleye/learningPython/blob/main/user_remove_adjacent_numbers.ipynb\" target=\"_parent\"><img src=\"https://colab.research.google.com/assets/colab-badge.svg\" alt=\"Open In Colab\"/></a>"
      ]
    },
    {
      "cell_type": "markdown",
      "metadata": {
        "id": "g2rvCz6-zHSq"
      },
      "source": [
        "\n",
        "\n",
        "\n",
        "\n",
        "## Challenge\n",
        "\n",
        "Given a list of numbers, return a list where all equal elements reduce to a single element if they are adjacent (next to each other). Example `[1, 2, 2, 3]` returns `[1, 2, 3]`, and `[1,2,2,3,3,1]` returns `[1,2,3,1]` (The `1s` are not adjacent, so they both stay). You may create a new list or modify the passed in list."
      ]
    },
    {
      "cell_type": "code",
      "execution_count": null,
      "metadata": {
        "id": "jI9XtFDXzHSy"
      },
      "outputs": [],
      "source": [
        "### START FUNCTION\n",
        "def remove_adjacent(nums):\n",
        "  i = 0\n",
        "  while i < len(nums) - 1 : \n",
        "    if nums[i] == nums[i+1]:\n",
        "      nums.pop(i+1)\n",
        "    else:\n",
        "      i = i + 1\n",
        "    # your code here\n",
        "  return nums\n",
        "### END FUNCTION"
      ]
    },
    {
      "cell_type": "markdown",
      "metadata": {
        "id": "Dhu3vchBzHS2"
      },
      "source": [
        "Be sure to preserve the order (see below) and ensure that your code passes the assertions below:"
      ]
    },
    {
      "cell_type": "code",
      "source": [
        "remove_adjacent([1, 2, 2, 3])"
      ],
      "metadata": {
        "colab": {
          "base_uri": "https://localhost:8080/"
        },
        "id": "MWMrsnOJvXQv",
        "outputId": "40995f7d-0b85-45ca-a4c3-a7b00bccda76"
      },
      "execution_count": null,
      "outputs": [
        {
          "output_type": "execute_result",
          "data": {
            "text/plain": [
              "[1, 2, 3]"
            ]
          },
          "metadata": {},
          "execution_count": 15
        }
      ]
    },
    {
      "cell_type": "code",
      "source": [
        "\n",
        "remove_adjacent([1, 2, 2, 2, 3, 3]) == [1, 2, 3]\n"
      ],
      "metadata": {
        "colab": {
          "base_uri": "https://localhost:8080/"
        },
        "id": "uZHfGbL-gn89",
        "outputId": "f8a0d65e-5774-4961-d889-0d392b910287"
      },
      "execution_count": null,
      "outputs": [
        {
          "output_type": "execute_result",
          "data": {
            "text/plain": [
              "True"
            ]
          },
          "metadata": {},
          "execution_count": 16
        }
      ]
    },
    {
      "cell_type": "code",
      "source": [
        "remove_adjacent([27, -5, 13, 13, 0]) == [27, -5, 13, 0]"
      ],
      "metadata": {
        "colab": {
          "base_uri": "https://localhost:8080/"
        },
        "id": "j_k3IOnGvsn_",
        "outputId": "d3a24bb7-891f-4fd9-d865-c0cef8c98e15"
      },
      "execution_count": null,
      "outputs": [
        {
          "output_type": "execute_result",
          "data": {
            "text/plain": [
              "True"
            ]
          },
          "metadata": {},
          "execution_count": 17
        }
      ]
    },
    {
      "cell_type": "markdown",
      "metadata": {
        "id": "fXkfNRF6zHS4"
      },
      "source": [
        "_**Expected Outputs**_ \n",
        "```python\n",
        "remove_adjacent([1, 2, 2, 3]) == [1, 2, 3]\n",
        "remove_adjacent([1, 2, 2, 2, 3, 3]) == [1, 2, 3]\n",
        "remove_adjacent([27, -5, 13, 13, 0]) == [27, -5, 13, 0]\n",
        "remove_adjacent([1, 1, 1, 5, 5, 5, 9, 9, 13, 13, 5 ]) == [1, 5, 9, 13, 5]\n",
        "remove_adjacent([9, 7, 14, 7, 7]) == [9, 7, 14, 7]\n",
        "```"
      ]
    },
    {
      "cell_type": "markdown",
      "metadata": {
        "id": "b4e85IapzHS4"
      },
      "source": [
        "## References\n",
        "\n",
        "Parts of this tutorial was created using the wonderful [Google Python Developers](https://developers.google.com/edu/python/) course, and has been modified under the [Creative Common's licence 2.5](https://creativecommons.org/licenses/by/2.5/) \n",
        "\n",
        "Copyright 2010 Google Inc.\n",
        "Licensed under the Apache License, Version 2.0\n",
        "http://www.apache.org/licenses/LICENSE-2.0\n",
        "\n",
        "Google's Python Class\n",
        "http://code.google.com/edu/languages/google-python-class/"
      ]
    }
  ],
  "metadata": {
    "kernelspec": {
      "display_name": "Python 3",
      "language": "python",
      "name": "python3"
    },
    "language_info": {
      "codemirror_mode": {
        "name": "ipython",
        "version": 3
      },
      "file_extension": ".py",
      "mimetype": "text/x-python",
      "name": "python",
      "nbconvert_exporter": "python",
      "pygments_lexer": "ipython3",
      "version": "3.8.8"
    },
    "colab": {
      "provenance": [],
      "include_colab_link": true
    }
  },
  "nbformat": 4,
  "nbformat_minor": 0
}
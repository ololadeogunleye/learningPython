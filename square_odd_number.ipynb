{
  "cells": [
    {
      "cell_type": "markdown",
      "metadata": {
        "id": "view-in-github",
        "colab_type": "text"
      },
      "source": [
        "<a href=\"https://colab.research.google.com/github/ololadeogunleye/learningPython/blob/main/square_odd_number.ipynb\" target=\"_parent\"><img src=\"https://colab.research.google.com/assets/colab-badge.svg\" alt=\"Open In Colab\"/></a>"
      ]
    },
    {
      "cell_type": "markdown",
      "metadata": {
        "id": "YVWP9Lsa8H_j"
      },
      "source": [
        "\n",
        "\n",
        "\n",
        "## Challenge\n",
        "\n",
        "Write a function called square_odd that has one parameter. Your function must calculate the square of each odd number in a list.\n",
        "\n",
        "Return a Python list containing the squared values\n",
        "\n",
        "Challenge yourself: Solve this problem with a list comprehension!"
      ]
    },
    {
      "cell_type": "code",
      "execution_count": null,
      "metadata": {
        "tags": [],
        "id": "TGAgr3918H_y"
      },
      "outputs": [],
      "source": [
        "### START FUNCTION\n",
        "def square_odd(pylist):\n",
        "  Square_odd_list = []\n",
        "  for i in pylist:\n",
        "    if i%2 != 0:\n",
        "      Square_odd_list.append(i**2)\n",
        "    else:\n",
        "      continue\n",
        "      \n",
        "\n",
        "    # your code here\n",
        "  return Square_odd_list\n",
        "### END FUNCTION"
      ]
    },
    {
      "cell_type": "code",
      "execution_count": null,
      "metadata": {
        "colab": {
          "base_uri": "https://localhost:8080/"
        },
        "id": "RqdciKpG8H_2",
        "outputId": "242cc5c6-7ce7-43ee-8f15-05812c215d6f"
      },
      "outputs": [
        {
          "output_type": "stream",
          "name": "stdout",
          "text": [
            "[1, 9, 25, 5929, 9801, 15129, 119025]\n"
          ]
        }
      ],
      "source": [
        "print(square_odd([-1,-2,-3,-4,4,5,66,77,88,99,0,123,234,345,456]))"
      ]
    },
    {
      "cell_type": "markdown",
      "metadata": {
        "id": "4OwAbmnK8H_4"
      },
      "source": [
        "_**Expected Output :**_\n",
        "```python\n",
        "square_odd([-1,-2,-3,-4,4,5,66,77,88,99,0,123,234,345,456]) == [1, 9, 25, 5929, 9801, 15129, 119025]\n",
        "square_odd([-2,-4, 6, 5, -8]) == [25]\n",
        "square_odd([1,2,3,4,-5]) == [1, 9, 25]\n",
        "square_odd([100, 200, 300, -2]) == []\n",
        "```"
      ]
    },
    {
      "cell_type": "markdown",
      "metadata": {
        "id": "1xyD5FKf8H_8"
      },
      "source": [
        "## References\n",
        "\n",
        "Parts of this tutorial was created using the wonderful [Google Python Developers](https://developers.google.com/edu/python/) course, and has been modified under the [Creative Common's licence 2.5](https://creativecommons.org/licenses/by/2.5/) \n",
        "\n",
        "Copyright 2010 Google Inc.\n",
        "Licensed under the Apache License, Version 2.0\n",
        "http://www.apache.org/licenses/LICENSE-2.0\n",
        "\n",
        "Google's Python Class\n",
        "http://code.google.com/edu/languages/google-python-class/"
      ]
    }
  ],
  "metadata": {
    "kernelspec": {
      "display_name": "Python 3",
      "language": "python",
      "name": "python3"
    },
    "language_info": {
      "codemirror_mode": {
        "name": "ipython",
        "version": 3
      },
      "file_extension": ".py",
      "mimetype": "text/x-python",
      "name": "python",
      "nbconvert_exporter": "python",
      "pygments_lexer": "ipython3",
      "version": "3.8.8"
    },
    "colab": {
      "provenance": [],
      "include_colab_link": true
    }
  },
  "nbformat": 4,
  "nbformat_minor": 0
}
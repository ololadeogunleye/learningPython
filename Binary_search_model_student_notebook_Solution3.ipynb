{
  "cells": [
    {
      "cell_type": "markdown",
      "metadata": {
        "id": "view-in-github",
        "colab_type": "text"
      },
      "source": [
        "<a href=\"https://colab.research.google.com/github/ololadeogunleye/learningPython/blob/main/Binary_search_model_student_notebook_Solution3.ipynb\" target=\"_parent\"><img src=\"https://colab.research.google.com/assets/colab-badge.svg\" alt=\"Open In Colab\"/></a>"
      ]
    },
    {
      "cell_type": "markdown",
      "metadata": {
        "id": "V13Rm8oTnuuD"
      },
      "source": [
        "## Challenge\n",
        "\n",
        "The binary search is considered to be a very powerful algorithm used for locating elements in an already ordered list. Its ability to halve the search space with every iteration is what makes it so efficient. With every iteration we are searching a smaller and more manageable subspace. \n",
        "\n",
        "Over and above being able to locate items in a discrete list, it can also be applied on a continuous domain. For this question, you will be required to use the binary search to find the root of some function $f(x)$ on the domain $x \\in [a,b]$  by continuously bisecting the domain. In our case, the root of the function can be defined as the x-values where the function will return 0, i.e. $f(x) = 0$\n",
        "\n",
        "For example, for the function: $f(x) = sin^2(x)x^2-2$ on the domain $[0,2]$, the root can be found at $x \\approx 1.43$. \n",
        "\n",
        "**Constraints**\n",
        " - Stopping criteria: $\\big| f(root) \\big| < 0.0001$ or you reach a maximum of 1000 iterations.\n",
        " - Round your answer to two decimal places. \n",
        "\n",
        "**Function specifications**\n",
        "\n",
        "*Argument(s):*\n",
        "- **f** `(function)` $\\rightarrow$ mathematical expression in the form of a lambda function.\n",
        "- **domain** `(tuple)` $\\rightarrow$ the domain of the function given a set of two integers.\n",
        "- **MAX** `(int)` $\\rightarrow$ the maximum number of iterations that will be performed by the function.\n",
        "\n",
        "*Return:*\n",
        "- **root** `(float)` $\\rightarrow$ return the root (**rounded to two decimals**) of the given function."
      ]
    },
    {
      "cell_type": "code",
      "execution_count": null,
      "metadata": {
        "id": "K2INhFH8nuuA"
      },
      "outputs": [],
      "source": [
        "import numpy as np"
      ]
    },
    {
      "cell_type": "code",
      "execution_count": null,
      "metadata": {
        "id": "tMxKb_oLnuuH"
      },
      "outputs": [],
      "source": [
        "### START FUNCTION\n",
        "def binary_search(f, domain, MAX = 1000):\n",
        "    start, end = domain\n",
        "    if start >= end:\n",
        "        raise ValueError(\"Domain is empty\")\n",
        "    middle = (start + end) / 2\n",
        "    fmid = f(middle)\n",
        "    step = 0\n",
        "    while abs(fmid) > 0.0001 and step < MAX:\n",
        "        if fmid*f(end) < 0:\n",
        "            start = middle\n",
        "        else:\n",
        "            end = middle\n",
        "        middle = (start + end) / 2\n",
        "        fmid = f(middle)\n",
        "        step += 1\n",
        "    return round(middle, 2)\n",
        "\n",
        "### END FUNCTION"
      ]
    },
    {
      "cell_type": "code",
      "execution_count": null,
      "metadata": {
        "colab": {
          "base_uri": "https://localhost:8080/"
        },
        "id": "kesUFK0XnuuK",
        "outputId": "74c4a938-ff1e-4b36-c50d-5871cc128925"
      },
      "outputs": [
        {
          "output_type": "execute_result",
          "data": {
            "text/plain": [
              "1.43"
            ]
          },
          "metadata": {},
          "execution_count": 3
        }
      ],
      "source": [
        "f = lambda x:(np.sin(x)**2)*(x**2)-2\n",
        "domain = (0,2)\n",
        "x=binary_search(f,domain)\n",
        "x"
      ]
    },
    {
      "cell_type": "markdown",
      "metadata": {
        "id": "_nhJVyArnuuN"
      },
      "source": [
        "***Expected output***\n",
        "```python\n",
        "binary_search(lambda x:(np.sin(x)**2)*(x**2)-2,(0,2))==1.43\n",
        "```"
      ]
    },
    {
      "cell_type": "code",
      "execution_count": null,
      "metadata": {
        "id": "nXVs1eudnuuR"
      },
      "outputs": [],
      "source": []
    }
  ],
  "metadata": {
    "interpreter": {
      "hash": "6b5ebbc2c6bde2831bc6c0426f75aca8137ccfc69d329557556ed73faee126ae"
    },
    "kernelspec": {
      "display_name": "Python 3",
      "language": "python",
      "name": "python3"
    },
    "language_info": {
      "codemirror_mode": {
        "name": "ipython",
        "version": 3
      },
      "file_extension": ".py",
      "mimetype": "text/x-python",
      "name": "python",
      "nbconvert_exporter": "python",
      "pygments_lexer": "ipython3",
      "version": "3.8.8"
    },
    "colab": {
      "provenance": [],
      "include_colab_link": true
    }
  },
  "nbformat": 4,
  "nbformat_minor": 0
}
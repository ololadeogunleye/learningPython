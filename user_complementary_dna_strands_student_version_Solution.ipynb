{
  "cells": [
    {
      "cell_type": "markdown",
      "metadata": {
        "id": "view-in-github",
        "colab_type": "text"
      },
      "source": [
        "<a href=\"https://colab.research.google.com/github/ololadeogunleye/learningPython/blob/main/user_complementary_dna_strands_student_version_Solution.ipynb\" target=\"_parent\"><img src=\"https://colab.research.google.com/assets/colab-badge.svg\" alt=\"Open In Colab\"/></a>"
      ]
    },
    {
      "cell_type": "markdown",
      "source": [
        "## Challenge \n",
        "\n",
        "In coding challenge 2, you were introduced to RNA synthesis. DNA differs from RNA because RNA is one strand compared to DNA which is double stranded.It also differs in that instead of the U nucleotide, it contains a T. Below is an example of the different structures taken from: https://byjus.com/biology/difference-between-dna-and-rna/:\n",
        "\n",
        "The same lab was extremely impressed with the first code and now wants a new one. They want to find the complementary strands of DNA. Here is the low-down:\n",
        "\n",
        "A links with T and vice versa\n",
        "C links with G and vice versa\n",
        "An example of the complementary strand for the code ATCGGAATGCC is TAGCCTTACGG\n",
        "\n",
        "You are tasked to create a function dna_complementary which finds the complementary strand for a given DNA strand based on the above criteria. The function must return a string of the code\n",
        "\n",
        "This kind of code can be really helpful as a product. Imagine trying to get DNA strands for thousands of sequences which are thousands of nucleotides long. This is the power of python and coding!\n",
        "\n",
        "**Hint**: We didn't teach you dictionaries for nothing"
      ],
      "metadata": {
        "id": "MJ8BaKmzVs5o"
      }
    },
    {
      "cell_type": "code",
      "execution_count": null,
      "source": [
        "from IPython.display import Image\n",
        "from IPython.core.display import HTML \n",
        "Image(url = 'https://github.com/Explore-AI/Pictures/blob/master/Difference-Between-DNA-and-RNA.png?raw=true')"
      ],
      "outputs": [
        {
          "output_type": "execute_result",
          "data": {
            "text/html": [
              "<img src=\"https://github.com/Explore-AI/Pictures/blob/master/Difference-Between-DNA-and-RNA.png?raw=true\"/>"
            ],
            "text/plain": [
              "<IPython.core.display.Image object>"
            ]
          },
          "metadata": {},
          "execution_count": 1
        }
      ],
      "metadata": {
        "id": "GNufYpJxVs5p",
        "outputId": "2bb94dba-9f32-48f8-da6d-3dec5ddd5a03"
      }
    },
    {
      "cell_type": "code",
      "execution_count": null,
      "source": [
        "### START FUNCTION\n",
        "def dna_complementary(dna):\n",
        "    # your code \n",
        "    NL = []\n",
        "    NS = ''\n",
        "    for i in dna: \n",
        "      if i == 'A':\n",
        "        NL.append('T')\n",
        "      elif i == 'T':\n",
        "        NL.append('A')\n",
        "      elif i == 'C':\n",
        "        NL.append('G')\n",
        "      else:\n",
        "        NL.append('C')\n",
        "    for i in NL:\n",
        "      NS += i\n",
        "        \n",
        "    return NS\n",
        "### END FUNCTION"
      ],
      "outputs": [],
      "metadata": {
        "id": "Cdk3vhu2Vs5u"
      }
    },
    {
      "cell_type": "code",
      "source": [
        "def twoSum(self, nums: List[int], target: int) -> List[int]:\n",
        "        count1 = 0\n",
        "        count2 = 0\n",
        "        while count2 != len(nums):\n",
        "            if nums[count1] == nums[count2] and count1 != count2:\n",
        "                return [count1, count2]\n",
        "            elif count1 == len(nums):\n",
        "                count2 += 1\n",
        "            elif nums[count1] != nums[count2]:\n",
        "                count1 += 1\n",
        "twosum([2,7,11,15], 9)"
      ],
      "metadata": {
        "id": "mIptiO6O-YQl"
      },
      "execution_count": null,
      "outputs": []
    },
    {
      "cell_type": "code",
      "execution_count": null,
      "source": [
        "dna_complementary('ATCTTATAATTACCGAGTCGATCGG')"
      ],
      "outputs": [
        {
          "output_type": "execute_result",
          "data": {
            "text/plain": [
              "'TAGAATATTAATGGCTCAGCTAGCC'"
            ],
            "application/vnd.google.colaboratory.intrinsic+json": {
              "type": "string"
            }
          },
          "metadata": {},
          "execution_count": 7
        }
      ],
      "metadata": {
        "colab": {
          "base_uri": "https://localhost:8080/",
          "height": 36
        },
        "id": "87ywP1tUVs5x",
        "outputId": "35722b19-ed00-4746-aa56-d2ec83dad32c"
      }
    },
    {
      "cell_type": "markdown",
      "source": [
        "_**Expected Outputs**_ \n",
        "```python\n",
        "dna_complementary('ATCGGAATGCC') == 'TAGCCTTACGG'\n",
        "dna_complementary('TCCCGGATCGCATACGAT') == 'AGGGCCTAGCGTATGCTA'\n",
        "dna_complementary('ATCTTATAATTACCGAGTCGATCGG') == 'TAGAATATTAATGGCTCAGCTAGCC'\n",
        "dna_complementary('ATCGGACTACGA') == 'TAGCCTGATGCT'\n",
        "```"
      ],
      "metadata": {
        "id": "dAiepoxXVs5y"
      }
    },
    {
      "cell_type": "code",
      "source": [
        "dna_complementary('ATCTTATAATTACCGAGTCGATCGG') == 'TAGAATATTAATGGCTCAGCTAGCC'"
      ],
      "metadata": {
        "colab": {
          "base_uri": "https://localhost:8080/"
        },
        "id": "NXFtV_KUg3br",
        "outputId": "a683e5e2-958c-48eb-d035-f50d920becba"
      },
      "execution_count": null,
      "outputs": [
        {
          "output_type": "execute_result",
          "data": {
            "text/plain": [
              "True"
            ]
          },
          "metadata": {},
          "execution_count": 10
        }
      ]
    },
    {
      "cell_type": "markdown",
      "source": [
        "## References"
      ],
      "metadata": {
        "id": "fxW_BG0AVs50"
      }
    },
    {
      "cell_type": "markdown",
      "source": [
        "This tutorial was created using the wonderful [Google Python Developers](https://developers.google.com/edu/python/) course, and has been modified under the [Creative Common's licence 2.5](https://creativecommons.org/licenses/by/2.5/) \n",
        "\n",
        "Copyright 2010 Google Inc. Licensed under the Apache License, Version 2.0 http://www.apache.org/licenses/LICENSE-2.0\n",
        "\n",
        "Google's Python Class http://code.google.com/edu/languages/google-python-class/"
      ],
      "metadata": {
        "id": "CGN8mKNYVs51"
      }
    }
  ],
  "metadata": {
    "kernelspec": {
      "display_name": "Python 3",
      "language": "python",
      "name": "python3"
    },
    "language_info": {
      "codemirror_mode": {
        "name": "ipython",
        "version": 3
      },
      "file_extension": ".py",
      "mimetype": "text/x-python",
      "name": "python",
      "nbconvert_exporter": "python",
      "pygments_lexer": "ipython3",
      "version": "3.8.8"
    },
    "colab": {
      "provenance": [],
      "include_colab_link": true
    }
  },
  "nbformat": 4,
  "nbformat_minor": 0
}
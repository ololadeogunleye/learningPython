{
  "cells": [
    {
      "cell_type": "markdown",
      "metadata": {
        "id": "view-in-github",
        "colab_type": "text"
      },
      "source": [
        "<a href=\"https://colab.research.google.com/github/ololadeogunleye/learningPython/blob/main/user_squared_and_cubed.ipynb\" target=\"_parent\"><img src=\"https://colab.research.google.com/assets/colab-badge.svg\" alt=\"Open In Colab\"/></a>"
      ]
    },
    {
      "cell_type": "markdown",
      "metadata": {
        "id": "DoUlvEqPHgzy"
      },
      "source": [
        "## Challenge\n",
        "\n",
        "Create a function `sq_cube` which returns a list of lists containing both the square and the cube of only the even numbers in a given list. The function must also be able to round the numbers to the nearest whole number\n",
        "\n",
        "e.g. [1 ,2, 4, 5, 6] yields<br>\n",
        "`[[2,8], [16,64], [36,216]]`<br>"
      ]
    },
    {
      "cell_type": "code",
      "execution_count": null,
      "metadata": {
        "id": "HcbIZujNHgzz"
      },
      "outputs": [],
      "source": [
        "### START FUNCTION\n",
        "def sq_cube(numbers):\n",
        "    # your code here\n",
        "    NL = []\n",
        "    OL = [None , None]\n",
        "    for i in numbers:\n",
        "      if round(i) % 2 == 0:\n",
        "        OL = [round(i)**2, round(i)**3]\n",
        "        NL.append(OL)\n",
        "    \n",
        "    \n",
        "\n",
        "\n",
        "    return NL\n",
        "### END FUNCTION"
      ]
    },
    {
      "cell_type": "code",
      "execution_count": null,
      "metadata": {
        "colab": {
          "base_uri": "https://localhost:8080/"
        },
        "id": "EByE_Qg_Hgz1",
        "outputId": "ea569098-c6c6-4316-f062-331f6ec2eb0d"
      },
      "outputs": [
        {
          "output_type": "execute_result",
          "data": {
            "text/plain": [
              "[[4, 8], [16, 64], [36, 216]]"
            ]
          },
          "metadata": {},
          "execution_count": 45
        }
      ],
      "source": [
        "sq_cube([1,2,3,4,6])"
      ]
    },
    {
      "cell_type": "code",
      "source": [
        "sq_cube([50/2, 40/3, 30/4, 20/5, 10/6]) == [[64, 512], [16, 64], [4, 8]]"
      ],
      "metadata": {
        "colab": {
          "base_uri": "https://localhost:8080/"
        },
        "id": "82FFKPDgUu-q",
        "outputId": "9cf37cf5-5bea-49e4-e491-511bda0f7321"
      },
      "execution_count": null,
      "outputs": [
        {
          "output_type": "execute_result",
          "data": {
            "text/plain": [
              "True"
            ]
          },
          "metadata": {},
          "execution_count": 48
        }
      ]
    },
    {
      "cell_type": "markdown",
      "metadata": {
        "id": "1CVmJWJPHgz2"
      },
      "source": [
        "_**Expected Outputs**_ \n",
        "```python\n",
        "sq_cube([1,2,3,4,6]) == [[4, 8], [16, 64], [36, 216]]\n",
        "sq_cube([1.1, 2.2, 3.3, 4.4, 5.5, 6.6, 7.7, 8.8, 9.9]) == [[4, 8], [16, 64], [36, 216], [64, 512], [100, 1000]]\n",
        "sq_cube([9.80665, 3.141, 1.618033988, 2.41421562]) == [[100, 1000], [4, 8], [4, 8]]\n",
        "sq_cube([50/2, 40/3, 30/4, 20/5, 10/6]) == [[64, 512], [16, 64], [4, 8]]\n",
        "```"
      ]
    },
    {
      "cell_type": "markdown",
      "metadata": {
        "id": "BDbogYx9Hgz5"
      },
      "source": [
        "## References"
      ]
    },
    {
      "cell_type": "markdown",
      "metadata": {
        "id": "YJnMmKIvHgz7"
      },
      "source": [
        "This tutorial was created using the wonderful [Google Python Developers](https://developers.google.com/edu/python/) course, and has been modified under the [Creative Common's licence 2.5](https://creativecommons.org/licenses/by/2.5/)\n",
        "\n",
        "Copyright 2010 Google Inc. Licensed under the Apache License, Version 2.0 http://www.apache.org/licenses/LICENSE-2.0\n",
        "\n",
        "Google's Python Class http://code.google.com/edu/languages/google-python-class/"
      ]
    }
  ],
  "metadata": {
    "kernelspec": {
      "display_name": "Python 3",
      "language": "python",
      "name": "python3"
    },
    "language_info": {
      "codemirror_mode": {
        "name": "ipython",
        "version": 3
      },
      "file_extension": ".py",
      "mimetype": "text/x-python",
      "name": "python",
      "nbconvert_exporter": "python",
      "pygments_lexer": "ipython3",
      "version": "3.8.8"
    },
    "colab": {
      "provenance": [],
      "include_colab_link": true
    }
  },
  "nbformat": 4,
  "nbformat_minor": 0
}
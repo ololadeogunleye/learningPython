{
  "cells": [
    {
      "cell_type": "markdown",
      "metadata": {
        "id": "view-in-github",
        "colab_type": "text"
      },
      "source": [
        "<a href=\"https://colab.research.google.com/github/ololadeogunleye/learningPython/blob/main/Insertion_sort_student_version_solution.ipynb\" target=\"_parent\"><img src=\"https://colab.research.google.com/assets/colab-badge.svg\" alt=\"Open In Colab\"/></a>"
      ]
    },
    {
      "cell_type": "markdown",
      "metadata": {
        "id": "T3iJ8DyFRuiE"
      },
      "source": [
        "## Challenge\n",
        "\n",
        "You are required to investigate the number of comparisons that take place during the execution of an insertion sort. Given a list of $N$ unsorted integers, use insertion sort to count the number of comparisons that it takes to arrive at the sorted list. Your insertion sort should execute from left to right.\n",
        "\n",
        "**Function specifications**\n",
        "\n",
        "*Argument(s):*\n",
        "- **integers** `(list)` $\\rightarrow$ a list of unsorted integers.\n",
        "\n",
        "*Return:*\n",
        "- **comparisons** `(int)` $\\rightarrow$ return the number of comparisons made to arrive at the sorted list.\n",
        "\n"
      ]
    },
    {
      "cell_type": "code",
      "execution_count": null,
      "metadata": {
        "id": "mdrj0okfRuiC"
      },
      "outputs": [],
      "source": [
        "import numpy as np"
      ]
    },
    {
      "cell_type": "code",
      "execution_count": null,
      "metadata": {
        "id": "0hDgIDhYRuiH"
      },
      "outputs": [],
      "source": [
        "### START FUNCTION\n",
        "def insertion_sort(integers):\n",
        "  count = 0\n",
        "  for i in range(1, len(integers)):\n",
        "    key = integers[i]\n",
        "    j = i-1\n",
        "    while j >=0 and key < integers[j] :\n",
        "      count += 1\n",
        "      integers[j+1] = integers[j]\n",
        "      j -= 1\n",
        "    integers[j+1] = key\n",
        "  return count\n",
        "\n",
        "\n",
        "### END FUNCTION"
      ]
    },
    {
      "cell_type": "code",
      "execution_count": null,
      "metadata": {
        "colab": {
          "base_uri": "https://localhost:8080/"
        },
        "id": "3q8iNGsbRuiI",
        "outputId": "cc0f9402-4877-40c5-b3ad-4d30c799b979"
      },
      "outputs": [
        {
          "output_type": "execute_result",
          "data": {
            "text/plain": [
              "25"
            ]
          },
          "metadata": {},
          "execution_count": 14
        }
      ],
      "source": [
        "integers = [15,  1,  2, 16, 12, 16,  9,  2,  0, 11]\n",
        "insertion_sort(integers.copy())"
      ]
    },
    {
      "cell_type": "markdown",
      "metadata": {
        "id": "TL4mAK0ORuiJ"
      },
      "source": [
        "***Expected output***\n",
        "```python\n",
        "integers = [15,  1,  2, 16, 12, 16,  9,  2,  0, 11]\n",
        "insertion_sort(integers) == 25\n",
        "\n",
        "integers = [16,  9,  9, 12,  7, 13, 18,  1, 16, 11,  6, 15, 11, 18,  4]\n",
        "insertion_sort(integers) == 52\n",
        "\n",
        "integers = [26,  2, 40, 36, 13, 16,  5, 25,  9, 31, 30, 32, 30, 33, 11, 48, 21, 41, 45, 47]\n",
        "insertion_sort(integers) == 59\n",
        "```"
      ]
    },
    {
      "cell_type": "code",
      "execution_count": null,
      "metadata": {
        "colab": {
          "base_uri": "https://localhost:8080/"
        },
        "id": "QYLJXz0LRuiL",
        "outputId": "c0bf0625-47c5-4e32-eab9-8a712be121e6"
      },
      "outputs": [
        {
          "output_type": "execute_result",
          "data": {
            "text/plain": [
              "True"
            ]
          },
          "metadata": {},
          "execution_count": 15
        }
      ],
      "source": [
        "integers = [16,  9,  9, 12,  7, 13, 18,  1, 16, 11,  6, 15, 11, 18,  4]\n",
        "insertion_sort(integers) == 52"
      ]
    }
  ],
  "metadata": {
    "interpreter": {
      "hash": "6b5ebbc2c6bde2831bc6c0426f75aca8137ccfc69d329557556ed73faee126ae"
    },
    "kernelspec": {
      "display_name": "Python 3",
      "language": "python",
      "name": "python3"
    },
    "language_info": {
      "codemirror_mode": {
        "name": "ipython",
        "version": 3
      },
      "file_extension": ".py",
      "mimetype": "text/x-python",
      "name": "python",
      "nbconvert_exporter": "python",
      "pygments_lexer": "ipython3",
      "version": "3.8.8"
    },
    "colab": {
      "provenance": [],
      "include_colab_link": true
    }
  },
  "nbformat": 4,
  "nbformat_minor": 0
}
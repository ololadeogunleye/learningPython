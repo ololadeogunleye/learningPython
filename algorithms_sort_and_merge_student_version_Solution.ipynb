{
  "cells": [
    {
      "cell_type": "markdown",
      "metadata": {
        "id": "view-in-github",
        "colab_type": "text"
      },
      "source": [
        "<a href=\"https://colab.research.google.com/github/ololadeogunleye/learningPython/blob/main/algorithms_sort_and_merge_student_version_Solution.ipynb\" target=\"_parent\"><img src=\"https://colab.research.google.com/assets/colab-badge.svg\" alt=\"Open In Colab\"/></a>"
      ]
    },
    {
      "cell_type": "markdown",
      "metadata": {
        "id": "QHp2lQvsiMUK"
      },
      "source": [
        "\n",
        "\n",
        "## Challenge\n",
        "\n",
        "Given two lists sorted in increasing order, create and return a merged list of all the elements in sorted order. You may modify the passed in lists. <br>\n",
        "Ideally, the solution should work in \"linear\" time, making a single pass through each list. Please note that Python's sorting functions are slower than linear time."
      ]
    },
    {
      "cell_type": "code",
      "execution_count": null,
      "metadata": {
        "tags": [],
        "id": "WB2H-2UaiMUQ"
      },
      "outputs": [],
      "source": [
        "### START FUNCTION\n",
        "def linear_merge(A, B): \n",
        "  new_list = []\n",
        "  while len(A) > 0 and len(B) > 0:\n",
        "      if A[0] < B[0]:\n",
        "          new_list.append(A[0])\n",
        "          A.pop(0)\n",
        "      else:\n",
        "          new_list.append(B[0])\n",
        "          B.pop(0)\n",
        "    \n",
        "  if len(A) == 0:\n",
        "        new_list = new_list + B    \n",
        "  if len(B) == 0:\n",
        "        new_list = new_list + A\n",
        "        \n",
        "  return new_list        \n",
        " \n",
        "    # your code her \n",
        "### END FUNCTION"
      ]
    },
    {
      "cell_type": "code",
      "execution_count": null,
      "metadata": {
        "colab": {
          "base_uri": "https://localhost:8080/"
        },
        "id": "cKp8ZfhpiMUT",
        "outputId": "27a17f96-b364-465b-cc77-467865b49cf1"
      },
      "outputs": [
        {
          "output_type": "execute_result",
          "data": {
            "text/plain": [
              "['aa', 'bb', 'cc', 'xx', 'zz']"
            ]
          },
          "metadata": {},
          "execution_count": 3
        }
      ],
      "source": [
        "linear_merge(['aa', 'xx', 'zz'], ['bb', 'cc'])"
      ]
    },
    {
      "cell_type": "code",
      "source": [
        "linear_merge(['aab', 'aad', 'aaf'], ['aac', 'aae']) == ['aab', 'aac', 'aad', 'aae', 'aaf']"
      ],
      "metadata": {
        "colab": {
          "base_uri": "https://localhost:8080/"
        },
        "id": "OaCQ9OM42Pkc",
        "outputId": "8cc1ec77-cb90-440c-f113-20c8561f7cce"
      },
      "execution_count": null,
      "outputs": [
        {
          "output_type": "execute_result",
          "data": {
            "text/plain": [
              "True"
            ]
          },
          "metadata": {},
          "execution_count": 5
        }
      ]
    },
    {
      "cell_type": "markdown",
      "metadata": {
        "id": "ACunkrBjiMUU"
      },
      "source": [
        "_**Expected Outputs**_ \n",
        "```python\n",
        "linear_merge(['aa', 'xx', 'zz'], ['bb', 'cc']) == ['aa', 'bb', 'cc', 'xx', 'zz']\n",
        "linear_merge(['searching', 'sorting', 'van'], ['apple', 'small']) == ['apple', 'searching', 'small', 'sorting', 'van']\n",
        "linear_merge(['hello', 'world'], ['funny', 'giant', 'zoo']) == ['funny', 'giant', 'hello', 'world', 'zoo']\n",
        "linear_merge(['patch', 'tour', 'yak', 'zombie'], ['egg', 'stall']) == ['egg', 'patch', 'stall', 'tour', 'yak', 'zombie']\n",
        "linear_merge(['aab', 'aad', 'aaf'], ['aac', 'aae']) == ['aab', 'aac', 'aad', 'aae', 'aaf']\n",
        "```"
      ]
    },
    {
      "cell_type": "markdown",
      "metadata": {
        "id": "EHQmOg6CiMUY"
      },
      "source": [
        "## References\n",
        "\n",
        "Parts of this tutorial was created using the wonderful [Google Python Developers](https://developers.google.com/edu/python/) course, and has been modified under the [Creative Common's licence 2.5](https://creativecommons.org/licenses/by/2.5/) \n",
        "\n",
        "Copyright 2010 Google Inc.\n",
        "Licensed under the Apache License, Version 2.0\n",
        "http://www.apache.org/licenses/LICENSE-2.0\n",
        "\n",
        "Google's Python Class\n",
        "http://code.google.com/edu/languages/google-python-class/"
      ]
    }
  ],
  "metadata": {
    "kernelspec": {
      "display_name": "Python 3",
      "language": "python",
      "name": "python3"
    },
    "language_info": {
      "codemirror_mode": {
        "name": "ipython",
        "version": 3
      },
      "file_extension": ".py",
      "mimetype": "text/x-python",
      "name": "python",
      "nbconvert_exporter": "python",
      "pygments_lexer": "ipython3",
      "version": "3.8.8"
    },
    "colab": {
      "provenance": [],
      "include_colab_link": true
    }
  },
  "nbformat": 4,
  "nbformat_minor": 0
}